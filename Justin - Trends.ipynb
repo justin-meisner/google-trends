{
 "cells": [
  {
   "cell_type": "markdown",
   "metadata": {},
   "source": [
    "### Imports"
   ]
  },
  {
   "cell_type": "code",
   "execution_count": 1,
   "metadata": {},
   "outputs": [],
   "source": [
    "import pytrends\n",
    "import numpy as np\n",
    "import pandas as pd\n",
    "import requests\n",
    "import lxml\n",
    "import datetime\n",
    "from datetime import date\n",
    "import matplotlib\n",
    "import matplotlib.pyplot as plt\n",
    "import matplotlib.dates as mdates\n",
    "\n",
    "\n",
    "num = 3000\n",
    "pd.set_option('display.max_columns', num)\n",
    "pd.set_option('display.max_rows', num)\n",
    "pd.set_option('display.max_colwidth', num)\n"
   ]
  },
  {
   "cell_type": "markdown",
   "metadata": {},
   "source": [
    "### Functions"
   ]
  },
  {
   "cell_type": "code",
   "execution_count": 2,
   "metadata": {},
   "outputs": [],
   "source": [
    "def query_entry(num_queries):\n",
    "\n",
    "    \"\"\"\n",
    "    Get user input for queries\n",
    "    \"\"\"\n",
    "    query_list = []\n",
    "    \n",
    "    i = 0\n",
    "\n",
    "    for i in range(num_queries):\n",
    "        query_list.append(input(\"Please enter keyword for query: \"))\n",
    "        \n",
    "    return query_list"
   ]
  },
  {
   "cell_type": "code",
   "execution_count": 3,
   "metadata": {},
   "outputs": [],
   "source": [
    "def num_of_queries():\n",
    "    \n",
    "    \"\"\"\n",
    "    Get number of queries\n",
    "    \"\"\"\n",
    "    num = int(input(\"Please enter number of queries to search and compare(max 5): \"))\n",
    "\n",
    "    if num > 5 or num < 0:\n",
    "        while num > 5 or num < 0:\n",
    "            num = int(input(\"Please enter number of queries to search and compare(max 5): \"))\n",
    "\n",
    "\n",
    "    return num\n",
    "    "
   ]
  },
  {
   "cell_type": "markdown",
   "metadata": {},
   "source": [
    "### Opens Google.Trends request"
   ]
  },
  {
   "cell_type": "code",
   "execution_count": 4,
   "metadata": {},
   "outputs": [],
   "source": [
    "from pytrends.request import TrendReq\n",
    "\n",
    "# Only need to run this once, the rest of requests will use the same session.\n",
    "pytrend = TrendReq(hl='en-US', tz=360, timeout=(10,25), retries=2, backoff_factor=0.3)\n",
    "\n",
    "master_df = pd.DataFrame()"
   ]
  },
  {
   "cell_type": "markdown",
   "metadata": {},
   "source": [
    "### Payload Customization Section"
   ]
  },
  {
   "cell_type": "code",
   "execution_count": 5,
   "metadata": {
    "scrolled": true
   },
   "outputs": [
    {
     "name": "stdout",
     "output_type": "stream",
     "text": [
      "Please enter number of queries to search and compare(max 5): 4\n"
     ]
    },
    {
     "ename": "UnboundLocalError",
     "evalue": "local variable 'num_queries' referenced before assignment",
     "output_type": "error",
     "traceback": [
      "\u001b[0;31m---------------------------------------------------------------------------\u001b[0m",
      "\u001b[0;31mUnboundLocalError\u001b[0m                         Traceback (most recent call last)",
      "\u001b[0;32m<ipython-input-5-4932225dcc27>\u001b[0m in \u001b[0;36m<module>\u001b[0;34m\u001b[0m\n\u001b[1;32m     13\u001b[0m \u001b[0muser_kw_list\u001b[0m \u001b[0;34m=\u001b[0m \u001b[0;34m[\u001b[0m\u001b[0;34m]\u001b[0m\u001b[0;34m\u001b[0m\u001b[0;34m\u001b[0m\u001b[0m\n\u001b[1;32m     14\u001b[0m \u001b[0;34m\u001b[0m\u001b[0m\n\u001b[0;32m---> 15\u001b[0;31m \u001b[0mnum_queries\u001b[0m \u001b[0;34m=\u001b[0m \u001b[0mnum_of_queries\u001b[0m\u001b[0;34m(\u001b[0m\u001b[0;34m)\u001b[0m\u001b[0;34m\u001b[0m\u001b[0;34m\u001b[0m\u001b[0m\n\u001b[0m\u001b[1;32m     16\u001b[0m \u001b[0;34m\u001b[0m\u001b[0m\n\u001b[1;32m     17\u001b[0m \u001b[0muser_kw_list\u001b[0m \u001b[0;34m=\u001b[0m \u001b[0mquery_entry\u001b[0m\u001b[0;34m(\u001b[0m\u001b[0mnum_queries\u001b[0m\u001b[0;34m)\u001b[0m\u001b[0;34m\u001b[0m\u001b[0;34m\u001b[0m\u001b[0m\n",
      "\u001b[0;32m<ipython-input-3-5ecc76c6e85d>\u001b[0m in \u001b[0;36mnum_of_queries\u001b[0;34m()\u001b[0m\n\u001b[1;32m      6\u001b[0m     \u001b[0mnum\u001b[0m \u001b[0;34m=\u001b[0m \u001b[0mint\u001b[0m\u001b[0;34m(\u001b[0m\u001b[0minput\u001b[0m\u001b[0;34m(\u001b[0m\u001b[0;34m\"Please enter number of queries to search and compare(max 5): \"\u001b[0m\u001b[0;34m)\u001b[0m\u001b[0;34m)\u001b[0m\u001b[0;34m\u001b[0m\u001b[0;34m\u001b[0m\u001b[0m\n\u001b[1;32m      7\u001b[0m \u001b[0;34m\u001b[0m\u001b[0m\n\u001b[0;32m----> 8\u001b[0;31m     \u001b[0;32mif\u001b[0m \u001b[0mnum_queries\u001b[0m \u001b[0;34m>\u001b[0m \u001b[0;36m5\u001b[0m \u001b[0;32mor\u001b[0m \u001b[0mnum_queries\u001b[0m \u001b[0;34m<\u001b[0m \u001b[0;36m0\u001b[0m\u001b[0;34m:\u001b[0m\u001b[0;34m\u001b[0m\u001b[0;34m\u001b[0m\u001b[0m\n\u001b[0m\u001b[1;32m      9\u001b[0m         \u001b[0;32mwhile\u001b[0m \u001b[0mnum_queries\u001b[0m \u001b[0;34m>\u001b[0m \u001b[0;36m5\u001b[0m \u001b[0;32mor\u001b[0m \u001b[0mnum_queries\u001b[0m \u001b[0;34m<\u001b[0m \u001b[0;36m0\u001b[0m\u001b[0;34m:\u001b[0m\u001b[0;34m\u001b[0m\u001b[0;34m\u001b[0m\u001b[0m\n\u001b[1;32m     10\u001b[0m             \u001b[0mnum_queries\u001b[0m \u001b[0;34m=\u001b[0m \u001b[0mint\u001b[0m\u001b[0;34m(\u001b[0m\u001b[0minput\u001b[0m\u001b[0;34m(\u001b[0m\u001b[0;34m\"Please enter number of queries to search and compare(max 5): \"\u001b[0m\u001b[0;34m)\u001b[0m\u001b[0;34m)\u001b[0m\u001b[0;34m\u001b[0m\u001b[0;34m\u001b[0m\u001b[0m\n",
      "\u001b[0;31mUnboundLocalError\u001b[0m: local variable 'num_queries' referenced before assignment"
     ]
    }
   ],
   "source": [
    "# Create payload and capture API tokens. \n",
    "# Only needed for interest_over_time(), interest_by_region() & related_queries()\n",
    "# Up to five terms in a list\n",
    "\n",
    "# Either start from today and go back up to 5 years, #-(H, d, m, y) for # of Hours, days, months, or years\n",
    "# OR give a timeframe of two dates in 'YYYY-MM-DD YYYY-MM-DD' format\n",
    "# If Given a 500 error code, it is Google issue with query, may see request as spam or sketchy code\n",
    "user_timeframe = 'today 5-y' \n",
    "\n",
    "#Country of interest, leave empty for global interest\n",
    "user_geo = 'US'\n",
    "\n",
    "user_kw_list = []\n",
    "\n",
    "num_queries = num_of_queries()\n",
    "\n",
    "user_kw_list = query_entry(num_queries)"
   ]
  },
  {
   "cell_type": "markdown",
   "metadata": {},
   "source": [
    "### API use"
   ]
  },
  {
   "cell_type": "code",
   "execution_count": null,
   "metadata": {},
   "outputs": [],
   "source": [
    "#Builds trend data pull\n",
    "pytrend.build_payload(kw_list = user_kw_list, timeframe = user_timeframe, geo=user_geo)"
   ]
  },
  {
   "cell_type": "markdown",
   "metadata": {},
   "source": [
    "### Interest Over Time Comparison"
   ]
  },
  {
   "cell_type": "code",
   "execution_count": null,
   "metadata": {},
   "outputs": [],
   "source": [
    "# Interest Over Time\n",
    "# Google Trends does not relay specific view counts of topics.\n",
    "# Simply, the numbers correlate to relative virality of a topic,\n",
    "# where 100 is maximum trend and 0 is minimum trend\n",
    "\n",
    "# interest over time provides weekly intervals for trend analysis\n",
    "interest_over_time_df = pytrend.interest_over_time()\n",
    "interest_over_time_df"
   ]
  },
  {
   "cell_type": "markdown",
   "metadata": {},
   "source": [
    "### Interest Over Time Plot"
   ]
  },
  {
   "cell_type": "code",
   "execution_count": null,
   "metadata": {
    "scrolled": true
   },
   "outputs": [],
   "source": [
    "interest_over_time_df.plot()"
   ]
  },
  {
   "cell_type": "markdown",
   "metadata": {},
   "source": [
    "### Interest by state over 5 Years"
   ]
  },
  {
   "cell_type": "code",
   "execution_count": null,
   "metadata": {
    "scrolled": true
   },
   "outputs": [],
   "source": [
    "# Interest by Region\n",
    "# The values are calculated on a scale from 0 to 100, \n",
    "# where 100 is the location with the most popularity as a fraction of total \n",
    "# searches in that location, a value of 50 indicates a location which is half as popular. \n",
    "# A value of 0 indicates a location where there was not enough data for this term.\n",
    "interest_by_region_df = pytrend.interest_by_region(resolution='COUNTRY', inc_low_vol=True, inc_geo_code=False)\n",
    "\n",
    "#Plots interest by region per state within selected timeframe\n",
    "interest_by_region_df.plot(figsize=(100, 10), kind ='bar')\n",
    "\n",
    "\n",
    "\n",
    "\n",
    "    "
   ]
  },
  {
   "cell_type": "markdown",
   "metadata": {},
   "source": [
    "### Related Queries, which requires payload with only one item"
   ]
  },
  {
   "cell_type": "code",
   "execution_count": null,
   "metadata": {},
   "outputs": [],
   "source": [
    "\n",
    "# Related Queries, returns a dictionary of dataframes\n",
    "\n",
    "# For Top, values are calculated on a scale from 0 to 100, \n",
    "# where 100 is the location with the most popularity as a fraction of total \n",
    "# searches in that location, a value of 50 indicates a location which is half as popular. \n",
    "# A value of 0 indicates a location where there was not enough data for this term.\n",
    "\n",
    "# For Rising, the values are uncertain but may be interpreted as rounded searches for timeframe\n",
    "related_query = []\n",
    "\n",
    "related_query.append(input(\"Insert Search Query for Top Related and Rising Related Searches: \"))\n",
    "\n",
    "# Optional line to check new list above\n",
    "pytrend.build_payload(kw_list = related_query, timeframe = user_timeframe, geo=user_geo, cat='7')\n",
    "\n",
    "# Uses the keyword to find recent trending searches using certain keyword\n",
    "related_queries_dict = pytrend.related_queries()\n",
    "related_queries_dict[related_query[0]]['top']\n",
    "\n",
    "related_queries_dict[related_query[0]]['rising']\n",
    "\n",
    "\n"
   ]
  },
  {
   "cell_type": "markdown",
   "metadata": {},
   "source": [
    "### Google Trends Data, uses no payload, creates list of 20 most trending items from recent days"
   ]
  },
  {
   "cell_type": "code",
   "execution_count": null,
   "metadata": {},
   "outputs": [],
   "source": [
    "\n",
    "# Get Google Hot Trends data\n",
    "trending_searches_df = pytrend.trending_searches()\n",
    "print(trending_searches_df)\n",
    "print('------------')\n",
    "\n",
    "\n"
   ]
  },
  {
   "cell_type": "markdown",
   "metadata": {},
   "source": [
    "### Google Trends Data, uses no payload, creates list of most trending items so far from today"
   ]
  },
  {
   "cell_type": "code",
   "execution_count": null,
   "metadata": {
    "scrolled": false
   },
   "outputs": [],
   "source": [
    "# Get Google Hot Trends data\n",
    "today_searches_df = pytrend.today_searches()\n",
    "print(today_searches_df)\n",
    "print('------------')\n",
    "\n"
   ]
  }
 ],
 "metadata": {
  "kernelspec": {
   "display_name": "Python 3",
   "language": "python",
   "name": "python3"
  },
  "language_info": {
   "codemirror_mode": {
    "name": "ipython",
    "version": 3
   },
   "file_extension": ".py",
   "mimetype": "text/x-python",
   "name": "python",
   "nbconvert_exporter": "python",
   "pygments_lexer": "ipython3",
   "version": "3.7.6"
  }
 },
 "nbformat": 4,
 "nbformat_minor": 4
}
