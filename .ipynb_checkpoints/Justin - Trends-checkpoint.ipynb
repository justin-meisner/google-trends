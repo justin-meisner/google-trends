{
 "cells": [
  {
   "cell_type": "markdown",
   "metadata": {},
   "source": [
    "### Imports"
   ]
  },
  {
   "cell_type": "code",
   "execution_count": null,
   "metadata": {},
   "outputs": [],
   "source": [
    "import pytrends\n",
    "import numpy as np\n",
    "import pandas as pd\n",
    "import requests\n",
    "import lxml\n",
    "import datetime\n",
    "from datetime import date\n",
    "import matplotlib\n",
    "import matplotlib.pyplot as plt\n",
    "import matplotlib.dates as mdates\n",
    "\n",
    "\n",
    "num = 3000\n",
    "pd.set_option('display.max_columns', num)\n",
    "pd.set_option('display.max_rows', num)\n",
    "pd.set_option('display.max_colwidth', num)\n",
    "\n",
    "names = ['Ally_Financial', 'First_Financial_Bank', 'Bank_of_America', 'Bank_of_the_West', 'Truist_Financial', \n",
    "         'BMO_Harris_Bank', 'Capital_One', 'Chase', 'Citi_Bank', 'Citizens_Financial_Group', \n",
    "         'Fifth_Third_Bank', 'Huntington_Bancshares', 'JPMorgan_Chase', 'KeyBank', 'PNC_Financial_Services', \n",
    "         'Regions_Financial_Corporation', 'SunTrust_Banks', 'TD_Bank,_N.A.', 'U.S._Bancorp', 'Wells_Fargo']\n",
    "\n",
    "master_titles = ['Ally Financial', 'First Financial Bank', 'Bank of America', 'Bank of the West', 'Truist Financial', \n",
    "         'BMO Harris Bank', 'Capital One', 'Chase', 'Citi Bank', 'Citizens Financial Group', \n",
    "         'Fifth Third Bank', 'Huntington Bancshares', 'JPMorgan Chase', 'KeyBank', 'PNC Financial Services', \n",
    "         'Regions Financial Corporation', 'SunTrust Banks', 'TD Bank N.A.', 'U.S. Bancorp', 'Wells Fargo']"
   ]
  },
  {
   "cell_type": "markdown",
   "metadata": {},
   "source": [
    "### Opens Google.Trends request"
   ]
  },
  {
   "cell_type": "code",
   "execution_count": null,
   "metadata": {},
   "outputs": [],
   "source": [
    "from pytrends.request import TrendReq\n",
    "\n",
    "# Only need to run this once, the rest of requests will use the same session.\n",
    "pytrend = TrendReq(hl='en-US', tz=360, timeout=(10,25), retries=2, backoff_factor=0.3)\n",
    "\n",
    "master_df = pd.DataFrame()"
   ]
  },
  {
   "cell_type": "markdown",
   "metadata": {},
   "source": [
    "### Payload Customization Section"
   ]
  },
  {
   "cell_type": "code",
   "execution_count": null,
   "metadata": {},
   "outputs": [],
   "source": [
    "# Create payload and capture API tokens. \n",
    "# Only needed for interest_over_time(), interest_by_region() & related_queries()\n",
    "# Up to five terms in a list\n",
    "\n",
    "\n",
    "#add for query items(5 max for data pull)\n",
    "kw1 = '/m/06dmpk'  #Ally Financial\n",
    "kw2 = '/m/03p24fm' # First Financial Bank\n",
    "kw3 = '/m/01yx7f' # Bank of America\n",
    "kw4 = '/m/02qhjc' # Bank of the West\n",
    "kw5 = '/m/04vrhz' # Truist Financial\n",
    "\n",
    "kw6 = '/m/07c061' # BMO Harris Bank\n",
    "kw7 = '/m/04c_q_' # Capital One\n",
    "kw8 = '/m/0221wv' # Chase\n",
    "kw9 = '/m/01hlzm' # Citi Bank\n",
    "kw10 ='/m/035ks0' # Citizens Financial Group\n",
    "\n",
    "kw11 = 'Fifth Third Bank'\n",
    "kw12 = '/m/026ms7d'\n",
    "kw13 = 'JPMorgan Chase'\n",
    "kw14 = 'KeyBank'\n",
    "kw15 = 'PNC Financial Services'\n",
    "\n",
    "kw16 = 'Regions Financial Corporation'\n",
    "kw17 = 'SunTrust Banks'\n",
    "kw18 = 'TD Bank NA'\n",
    "kw19 = 'US Bancorp'\n",
    "kw20 = 'Wells Fargo'\n",
    "\n",
    "#For comparison chart, set to 'YES'\n",
    "\n",
    "\n",
    "user_kw_list = []\n",
    "# user_kw_list.append(kw1)\n",
    "# user_kw_list.append(kw2)\n",
    "# user_kw_list.append(kw3)\n",
    "# user_kw_list.append(kw4)\n",
    "# user_kw_list.append(kw5)\n",
    "\n",
    "\n",
    "\n",
    "#start from today and go back up to 5 years, #-(d, m, y) for # of days, months, or years\n",
    "user_timeframe = 'today 5-y' \n",
    "\n",
    "#Country of interest, leave empty for global interest\n",
    "user_geo = 'US'\n",
    "\n",
    "end_date = date.today()\n",
    "today_date = date.today()\n",
    "end_date = today_date\n",
    "\n",
    "#TODO:Fix date set to match trend pull begin date\n",
    "begin_date = datetime.date(2015,5,24)\n",
    "\n",
    "numdays = 7\n",
    "numweeks = 52\n",
    "\n",
    "#depends on user_timeframe\n",
    "numyears = 5\n",
    "\n",
    "total_time_range = numdays * numweeks * numyears\n"
   ]
  },
  {
   "cell_type": "code",
   "execution_count": null,
   "metadata": {},
   "outputs": [],
   "source": [
    "#Builds trend data pull\n",
    "pytrend.build_payload(kw_list = user_kw_list, timeframe = user_timeframe, geo=user_geo)"
   ]
  },
  {
   "cell_type": "markdown",
   "metadata": {},
   "source": [
    "### Interest Over Time Comparison with Chart"
   ]
  },
  {
   "cell_type": "code",
   "execution_count": null,
   "metadata": {
    "scrolled": true
   },
   "outputs": [],
   "source": [
    "# Interest Over Time\n",
    "# Google Trends does not relay specific view counts of topics.\n",
    "# Simply, the numbers correlate to relative virality of a topic,\n",
    "# where 100 is maximum trend and 0 is minimum trend\n",
    "\n",
    "# interest over time provides weekly intervals for trend analysis\n",
    "interest_over_time_df = pytrend.interest_over_time()\n",
    "\n",
    "# #Builds weekly date list and sets x-axis to dates\n",
    "# datelist = [begin_date]\n",
    "# for index in range (0, numweeks*numyears):\n",
    "#     datelist.append(datelist[index] + (datetime.timedelta(days = numdays)))\n",
    "# x_axis = datelist\n",
    "\n",
    "# # Plot into a chart \n",
    "# plt.gca().xaxis.set_major_formatter(mdates.DateFormatter('%m/%Y'))\n",
    "# plt.gca().xaxis.set_major_locator(mdates.DayLocator(0,14*numyears))\n",
    "# plt.gcf().autofmt_xdate()\n",
    "\n",
    "# # Plots first list entry\n",
    "# plt.plot (x_axis, interest_over_time_df.iloc[:,0], label = master_titles[1])\n",
    "\n",
    "# # For each of next 4 entries, check if user wants them plotted\n",
    "# # if q2.upper() == \"YES\":\n",
    "# #     plt.plot (x_axis, interest_over_time_df.iloc[:,1], label = master_titles[1])\n",
    "# # if q3.upper() == \"YES\":\n",
    "# #     plt.plot (x_axis, interest_over_time_df.iloc[:,2], label = master_titles[2])\n",
    "# # if q4.upper() == \"YES\":\n",
    "# #     plt.plot (x_axis, interest_over_time_df.iloc[:,3], label = master_titles[3])\n",
    "# # if q5.upper() == \"YES\":\n",
    "# #     plt.plot (x_axis, interest_over_time_df.iloc[:,4], label = master_titles[4])\n",
    "    \n",
    "# # Angles x-axis list for readability\n",
    "# plt.xticks(rotation=75)\n",
    "\n",
    "# # Plot labels\n",
    "# plt.xlabel('Time')\n",
    "# plt.ylabel('Level of Interest')\n",
    "# plt.title('Interest over time')\n",
    "# plt.legend()\n",
    "# plt.show()\n",
    "\n",
    "frames = [interest_over_time_df]\n",
    "\n",
    "master_df = pd.concat(frames, axis=1)\n",
    "\n",
    "interest_over_time_df"
   ]
  },
  {
   "cell_type": "code",
   "execution_count": null,
   "metadata": {},
   "outputs": [],
   "source": [
    "master_df['/m/03p24fm']"
   ]
  },
  {
   "cell_type": "code",
   "execution_count": null,
   "metadata": {},
   "outputs": [],
   "source": [
    "#add for query items(5 max for data pull)\n",
    "kw1 = 'BMO Harris Bank'\n",
    "kw2 = 'Capital One'\n",
    "kw3 = 'Chase'\n",
    "kw4 = 'Citi Bank'\n",
    "kw5 = 'Citizens Financial Group'\n",
    "#For comparison chart, set to 'YES'\n",
    "q2 = 'YES'\n",
    "q3 = 'YES'\n",
    "q4 = 'YES'\n",
    "q5 = 'YES'\n",
    "\n",
    "\n",
    "user_kw_list = []\n",
    "user_kw_list.append(kw1)\n",
    "user_kw_list.append(kw2)\n",
    "user_kw_list.append(kw3)\n",
    "user_kw_list.append(kw4)\n",
    "user_kw_list.append(kw5)"
   ]
  },
  {
   "cell_type": "code",
   "execution_count": null,
   "metadata": {},
   "outputs": [],
   "source": [
    "#Builds trend data pull\n",
    "pytrend.build_payload(kw_list = user_kw_list, timeframe = user_timeframe, geo=user_geo)"
   ]
  },
  {
   "cell_type": "code",
   "execution_count": null,
   "metadata": {},
   "outputs": [],
   "source": [
    "interest_over_time_df = pytrend.interest_over_time()"
   ]
  },
  {
   "cell_type": "code",
   "execution_count": null,
   "metadata": {},
   "outputs": [],
   "source": [
    "frames += [interest_over_time_df]\n",
    "\n",
    "master_df = pd.concat(frames, axis=1)\n"
   ]
  },
  {
   "cell_type": "code",
   "execution_count": null,
   "metadata": {},
   "outputs": [],
   "source": [
    "\n",
    "\n",
    "#add for query items(5 max for data pull)\n",
    "kw1 = 'Fifth Third Bank'\n",
    "kw2 = '/m/026ms7d'\n",
    "kw3 = 'JPMorgan Chase'\n",
    "kw4 = 'KeyBank'\n",
    "kw5 = 'PNC Financial Services'\n",
    "#For comparison chart, set to 'YES'\n",
    "q2 = 'YES'\n",
    "q3 = 'YES'\n",
    "q4 = 'YES'\n",
    "q5 = 'YES'\n",
    "\n",
    "user_kw_list = []\n",
    "user_kw_list.append(kw1)\n",
    "user_kw_list.append(kw2)\n",
    "user_kw_list.append(kw3)\n",
    "user_kw_list.append(kw4)\n",
    "user_kw_list.append(kw5)"
   ]
  },
  {
   "cell_type": "code",
   "execution_count": null,
   "metadata": {},
   "outputs": [],
   "source": [
    "#Builds trend data pull\n",
    "pytrend.build_payload(kw_list = user_kw_list, timeframe = user_timeframe, geo=user_geo)"
   ]
  },
  {
   "cell_type": "code",
   "execution_count": null,
   "metadata": {},
   "outputs": [],
   "source": [
    "interest_over_time_df = pytrend.interest_over_time()"
   ]
  },
  {
   "cell_type": "code",
   "execution_count": null,
   "metadata": {},
   "outputs": [],
   "source": [
    "frames += [interest_over_time_df]\n",
    "\n",
    "master_df = pd.concat(frames, axis=1)\n",
    "\n"
   ]
  },
  {
   "cell_type": "code",
   "execution_count": null,
   "metadata": {},
   "outputs": [],
   "source": [
    "'Regions_Financial_Corporation', 'SunTrust_Banks', 'TD_Bank,_N.A.', 'U.S._Bancorp', 'Wells_Fargo']\n",
    "\n",
    "#add for query items(5 max for data pull)\n",
    "kw1 = 'Regions Financial Corporation'\n",
    "kw2 = 'SunTrust Banks'\n",
    "kw3 = 'TD Bank NA'\n",
    "kw4 = 'US Bancorp'\n",
    "kw5 = 'Wells Fargo'\n",
    "#For comparison chart, set to 'YES'\n",
    "q2 = 'YES'\n",
    "q3 = 'YES'\n",
    "q4 = 'YES'\n",
    "q5 = 'YES'\n",
    "\n",
    "\n",
    "user_kw_list = []\n",
    "user_kw_list.append(kw1)\n",
    "user_kw_list.append(kw2)\n",
    "user_kw_list.append(kw3)\n",
    "user_kw_list.append(kw4)\n",
    "user_kw_list.append(kw5)"
   ]
  },
  {
   "cell_type": "code",
   "execution_count": null,
   "metadata": {},
   "outputs": [],
   "source": [
    "#Builds trend data pull\n",
    "pytrend.build_payload(kw_list = user_kw_list, timeframe = user_timeframe, geo=user_geo)"
   ]
  },
  {
   "cell_type": "code",
   "execution_count": null,
   "metadata": {},
   "outputs": [],
   "source": [
    "interest_over_time_df = pytrend.interest_over_time()"
   ]
  },
  {
   "cell_type": "code",
   "execution_count": null,
   "metadata": {},
   "outputs": [],
   "source": [
    "frames += [interest_over_time_df]\n",
    "\n",
    "master_df = pd.concat(frames, axis=1)"
   ]
  },
  {
   "cell_type": "code",
   "execution_count": null,
   "metadata": {},
   "outputs": [],
   "source": []
  },
  {
   "cell_type": "code",
   "execution_count": null,
   "metadata": {},
   "outputs": [],
   "source": [
    "master_df.drop('isPartial', axis=1, inplace=True)"
   ]
  },
  {
   "cell_type": "code",
   "execution_count": null,
   "metadata": {},
   "outputs": [],
   "source": [
    "master_df.plot()"
   ]
  },
  {
   "cell_type": "code",
   "execution_count": null,
   "metadata": {
    "scrolled": true
   },
   "outputs": [],
   "source": [
    "master_df\n"
   ]
  },
  {
   "cell_type": "code",
   "execution_count": null,
   "metadata": {},
   "outputs": [],
   "source": [
    "frames"
   ]
  },
  {
   "cell_type": "markdown",
   "metadata": {},
   "source": [
    "### Interest by region, built from initial payload"
   ]
  },
  {
   "cell_type": "code",
   "execution_count": null,
   "metadata": {
    "scrolled": true
   },
   "outputs": [],
   "source": [
    "# Interest by Region\n",
    "# The values are calculated on a scale from 0 to 100, \n",
    "# where 100 is the location with the most popularity as a fraction of total \n",
    "# searches in that location, a value of 50 indicates a location which is half as popular. \n",
    "# A value of 0 indicates a location where there was not enough data for this term.\n",
    "interest_by_region_df = pytrend.interest_by_region(resolution='COUNTRY', inc_low_vol=True, inc_geo_code=False)\n",
    "\n",
    "#Plots interest by region per state within selected timeframe\n",
    "interest_by_region_df.plot(figsize=(100, 10), kind ='bar')\n",
    "\n",
    "\n",
    "\n",
    "\n",
    "    "
   ]
  },
  {
   "cell_type": "markdown",
   "metadata": {},
   "source": [
    "### Related Queries, which requires payload with only one item"
   ]
  },
  {
   "cell_type": "code",
   "execution_count": null,
   "metadata": {},
   "outputs": [],
   "source": [
    "\n",
    "# Related Queries, returns a dictionary of dataframes\n",
    "\n",
    "# For Top, values are calculated on a scale from 0 to 100, \n",
    "# where 100 is the location with the most popularity as a fraction of total \n",
    "# searches in that location, a value of 50 indicates a location which is half as popular. \n",
    "# A value of 0 indicates a location where there was not enough data for this term.\n",
    "\n",
    "# For Rising, the values are uncertain but may be interpreted as rounded searches for timeframe\n",
    "bank_list = ['Bank']\n",
    "\n",
    "# Optional line to check new list above\n",
    "pytrend.build_payload(kw_list = bank_list, timeframe = user_timeframe, geo=user_geo, cat='7')\n",
    "\n",
    "# Uses the keyword to find recent trending searches using certain keyword\n",
    "related_queries_dict = pytrend.related_queries()\n",
    "print(related_queries_dict[bank_list[0]]['top'])\n",
    "\n",
    "print(related_queries_dict[bank_list[0]]['rising'])\n",
    "\n",
    "\n"
   ]
  },
  {
   "cell_type": "markdown",
   "metadata": {},
   "source": [
    "### Google Trends Data, uses no payload, creates list of 20 most trending items from recent days"
   ]
  },
  {
   "cell_type": "code",
   "execution_count": null,
   "metadata": {},
   "outputs": [],
   "source": [
    "\n",
    "# Get Google Hot Trends data\n",
    "trending_searches_df = pytrend.trending_searches()\n",
    "print(trending_searches_df)\n",
    "print('------------')\n",
    "\n",
    "\n"
   ]
  },
  {
   "cell_type": "markdown",
   "metadata": {},
   "source": [
    "### Google Trends Data, uses no payload, creates list of most trending items so far from today"
   ]
  },
  {
   "cell_type": "code",
   "execution_count": null,
   "metadata": {
    "scrolled": false
   },
   "outputs": [],
   "source": [
    "# Get Google Hot Trends data\n",
    "today_searches_df = pytrend.today_searches()\n",
    "print(today_searches_df)\n",
    "print('------------')\n",
    "\n"
   ]
  },
  {
   "cell_type": "markdown",
   "metadata": {},
   "source": [
    "### Location Top 10 Searches from selected year"
   ]
  },
  {
   "cell_type": "code",
   "execution_count": null,
   "metadata": {
    "scrolled": true
   },
   "outputs": [],
   "source": [
    "# Get Google Top Charts\n",
    "# Location is global, year is 2019 in this example\n",
    "\n",
    "top_charts_df = pytrend.top_charts(2019, hl='en-US', tz=300, geo='GLOBAL')\n",
    "print(top_charts_df)\n",
    "print('------------')\n"
   ]
  },
  {
   "cell_type": "markdown",
   "metadata": {},
   "source": [
    "### When searching on google trends, not google.com, lists top 5 suggested items"
   ]
  },
  {
   "cell_type": "code",
   "execution_count": null,
   "metadata": {},
   "outputs": [],
   "source": [
    "# Get Google Keyword Suggestions\n",
    "suggestions_dict = pytrend.suggestions(keyword='Biden')\n",
    "i=0\n",
    "for i in range(len(suggestions_dict)):\n",
    "    print(suggestions_dict[i]['title'])"
   ]
  },
  {
   "cell_type": "code",
   "execution_count": null,
   "metadata": {},
   "outputs": [],
   "source": []
  }
 ],
 "metadata": {
  "kernelspec": {
   "display_name": "Python 3",
   "language": "python",
   "name": "python3"
  },
  "language_info": {
   "codemirror_mode": {
    "name": "ipython",
    "version": 3
   },
   "file_extension": ".py",
   "mimetype": "text/x-python",
   "name": "python",
   "nbconvert_exporter": "python",
   "pygments_lexer": "ipython3",
   "version": "3.7.6"
  }
 },
 "nbformat": 4,
 "nbformat_minor": 4
}
